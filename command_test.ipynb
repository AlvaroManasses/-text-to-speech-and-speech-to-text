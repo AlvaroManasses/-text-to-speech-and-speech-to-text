!pip install gTTS SpeechRecognition pydub
!apt-get install ffmpeg -qq

import speech_recognition as sr
from gtts import gTTS
import webbrowser
from pydub import AudioSegment
from IPython.display import Audio, display
from google.colab import output
import io
import os
from base64 import b64decode

class AudioRecorder:
    def __init__(self):
        self._js_template = """
        (async function() {{
            try {{
                const stream = await navigator.mediaDevices.getUserMedia({{ audio: true }});
                const recorder = new MediaRecorder(stream);
                const chunks = [];
                
                recorder.ondataavailable = e => chunks.push(e.data);
                recorder.start();
                
                await new Promise(resolve => setTimeout(resolve, {duration} * 1000));
                
                return await new Promise(resolve => {{
                    recorder.onstop = () => {{
                        const blob = new Blob(chunks, {{ type: 'audio/webm' }});
                        const reader = new FileReader();
                        reader.onloadend = () => {{
                            stream.getTracks().forEach(track => track.stop());
                            resolve(reader.result.split(',')[1]);
                        }};
                        reader.readAsDataURL(blob);
                    }};
                    recorder.stop();
                }});
            }} catch (error) {{
                return null;
            }}
        }})()
        """

    def record(self, duration=5):
        try:
            js_code = self._js_template.format(duration=duration)
            result = output.eval_js(js_code)
            return b64decode(result) if result else None
        except Exception as e:
            print(f"Erro na gravação: {str(e)}")
            return None

def convert_webm_to_wav(webm_data):
    try:
        audio = AudioSegment.from_file(io.BytesIO(webm_data), format="webm")
        wav_io = io.BytesIO()
        audio.set_frame_rate(16000).set_channels(1).export(wav_io, format="wav")
        return wav_io.getvalue()
    except Exception as e:
        print(f"Erro na conversão: {str(e)}")
        return None

def recognize_speech():
    recognizer = sr.Recognizer()
    recorder = AudioRecorder()
    
    webm_data = recorder.record(5)
    if not webm_data:
        return ""
    
    wav_data = convert_webm_to_wav(webm_data)
    if not wav_data:
        return ""
    
    with open("temp.wav", "wb") as f:
        f.write(wav_data)
    
    try:
        with sr.AudioFile("temp.wav") as source:
            audio = recognizer.record(source)
            return recognizer.recognize_google(audio, language='en-US').lower()
    except sr.UnknownValueError:
        print("Áudio não reconhecido")
    except Exception as e:
        print(f"Erro no reconhecimento: {str(e)}")
    return ""

def text_to_speech(text):
    try:
        tts = gTTS(text=text, lang='en')
        tts.save("response.mp3")
        display(Audio("response.mp3", autoplay=True))
    except Exception as e:
        print(f"Erro na síntese de voz: {str(e)}")

def execute_command(text):
    try:
        if 'youtube' in text:
            text_to_speech("Opening YouTube...")
            webbrowser.open("https://www.youtube.com")
            return False
        elif 'exit' in text:
            text_to_speech("Goodbye!")
            return True
        return False
    except Exception as e:
        print(f"Erro no comando: {str(e)}")
        return False

def main():
    attempts = 0
    while attempts < 3:
        print("Aguardando comando...")
        text = recognize_speech()
        
        if text:
            if execute_command(text):
                break
            attempts = 0
        else:
            attempts += 1
            text_to_speech("Please try again")
    
    if attempts >= 3:
        text_to_speech("Maximum attempts reached")

if __name__ == "__main__":
    main()
    # Limpeza
    for file in ["temp.wav", "response.mp3"]:
        if os.path.exists(file):
            try:
                os.remove(file)
            except:
                pass
